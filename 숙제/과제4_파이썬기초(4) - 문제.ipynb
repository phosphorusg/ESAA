{
 "cells": [
  {
   "cell_type": "markdown",
   "metadata": {},
   "source": [
    "# 과제4 : 파이썬 기초(4)\n",
    "## 예외처리/내장함수/외장함수\n",
    "### 제출기한 : 9월 30일 월요일 18:59까지"
   ]
  },
  {
   "cell_type": "markdown",
   "metadata": {},
   "source": [
    "### 1. 예외처리"
   ]
  },
  {
   "cell_type": "markdown",
   "metadata": {},
   "source": [
    "다음 빈칸을 채워서 소스 코드를 완성하세요. \n",
    "\n",
    "maria.txt 파일이 있으면 파일의 내용을 읽어서 출력하고, 파일이 없으면 '파일이 없습니다.'를 출력하도록 만드세요. 파일이 없을 때 발생하는 예외는 FileNotFoundError입니다."
   ]
  },
  {
   "cell_type": "markdown",
   "metadata": {},
   "source": [
    "①  ___________   \n",
    "\n",
    "    file = open('maria.txt', 'r')\n",
    "    \n",
    "②  __________________________   \n",
    "\n",
    "    print('파일이 없습니다.')\n",
    "    \n",
    "③  ______   \n",
    "\n",
    "    s = file.read()\n",
    "    \n",
    "    file.close()"
   ]
  },
  {
   "cell_type": "code",
   "execution_count": 6,
   "metadata": {},
   "outputs": [
    {
     "name": "stdout",
     "output_type": "stream",
     "text": [
      "파일이 없습니다.\n"
     ]
    }
   ],
   "source": [
    "try:\n",
    "    file = open('maria.txt', 'r')\n",
    "except FileNotFoundError:\n",
    "    print('파일이 없습니다.')\n",
    "else:\n",
    "    s = file.read()#읽은 폴더를 s에 넣어주는 거\n",
    "    file.close() #파일 닫기"
   ]
  },
  {
   "cell_type": "markdown",
   "metadata": {},
   "source": [
    "### 2. 에러발생시켜보기"
   ]
  },
  {
   "cell_type": "markdown",
   "metadata": {},
   "source": [
    "allowed = ['가위','바위','보'] 리스트에 없는 값을 rsp 함수에 입력했을 때 에러를 발생시키고 적당한 문구를 표시해라"
   ]
  },
  {
   "cell_type": "code",
   "execution_count": 13,
   "metadata": {},
   "outputs": [],
   "source": [
    "def rsp(mine,your):\n",
    "    allowed = ['가위','바위','보']\n",
    "    if mine not in allowed:\n",
    "        raise ValueError #에러 이름은 수행시켜보고 나오는 에러 넣기\n",
    "    if your not in allowed:\n",
    "        raise ValueError\n",
    "    if mine==\"가위\" and your==\"바위\":\n",
    "        print(\"상대방이 이겼습니다.\")\n",
    "#함수를 완성시켜 보세요"
   ]
  },
  {
   "cell_type": "code",
   "execution_count": 15,
   "metadata": {},
   "outputs": [
    {
     "name": "stdout",
     "output_type": "stream",
     "text": [
      "잘못된 값을 입력했습니다\n"
     ]
    }
   ],
   "source": [
    "try:\n",
    "    rsp('가위','바')\n",
    "except ValueError:\n",
    "    print(\"잘못된 값을 입력했습니다\")\n",
    "#예외처리를 해보세요"
   ]
  },
  {
   "cell_type": "markdown",
   "metadata": {},
   "source": [
    "### 4. enumerate와 for문을 이용해 다음 리스트의 홀수 번째 요소만 출력하라."
   ]
  },
  {
   "cell_type": "code",
   "execution_count": 20,
   "metadata": {},
   "outputs": [
    {
     "name": "stdout",
     "output_type": "stream",
     "text": [
      "빠삐코\n",
      "비비빅\n",
      "누가바\n"
     ]
    }
   ],
   "source": [
    "ice_cream = ['빠삐코','더위사냥','비비빅','죠스바','누가바']\n",
    "for a, value in enumerate(ice_cream):\n",
    "    if a%2==0:\n",
    "        print(value)"
   ]
  },
  {
   "cell_type": "code",
   "execution_count": 2,
   "metadata": {},
   "outputs": [
    {
     "name": "stdout",
     "output_type": "stream",
     "text": [
      "빠삐코\n",
      "비비빅\n",
      "누가바\n"
     ]
    }
   ],
   "source": [
    "실행 예"
   ]
  },
  {
   "cell_type": "markdown",
   "metadata": {},
   "source": [
    "### 5. filter와 lambda를 사용하여 다음 리스트의 요솟값 중 100이하의 수만 가지는 리스트를 만들어라."
   ]
  },
  {
   "cell_type": "code",
   "execution_count": 22,
   "metadata": {},
   "outputs": [
    {
     "data": {
      "text/plain": [
       "[93, 20, 94, 12]"
      ]
     },
     "execution_count": 22,
     "metadata": {},
     "output_type": "execute_result"
    }
   ],
   "source": [
    "my_list = [93,20,1004,94,104,12]\n",
    "list(filter(lambda x: x<=100,my_list)) #lambda가 함수 기능을 함."
   ]
  },
  {
   "cell_type": "code",
   "execution_count": 5,
   "metadata": {},
   "outputs": [
    {
     "data": {
      "text/plain": [
       "[93, 20, 94, 12]"
      ]
     },
     "execution_count": 5,
     "metadata": {},
     "output_type": "execute_result"
    }
   ],
   "source": [
    "실행 예"
   ]
  },
  {
   "cell_type": "markdown",
   "metadata": {},
   "source": [
    "### 6. map과 lambda를 사용하여 [-23,13,-199,-29] 리스트의 각 요솟값의 절댓값을 가지는 리스트를 만들어라."
   ]
  },
  {
   "cell_type": "code",
   "execution_count": 81,
   "metadata": {},
   "outputs": [
    {
     "data": {
      "text/plain": [
       "[23, 13, 199, 29]"
      ]
     },
     "execution_count": 81,
     "metadata": {},
     "output_type": "execute_result"
    }
   ],
   "source": [
    "실행 예"
   ]
  },
  {
   "cell_type": "code",
   "execution_count": 6,
   "metadata": {},
   "outputs": [
    {
     "data": {
      "text/plain": [
       "[23, 13, 199, 29]"
      ]
     },
     "execution_count": 6,
     "metadata": {},
     "output_type": "execute_result"
    }
   ],
   "source": [
    "def fun(a):\n",
    "    return abs(a)\n",
    "\n",
    "list(map(lambda a: abs(a),[-23,13,-199,-29] ))"
   ]
  },
  {
   "cell_type": "markdown",
   "metadata": {},
   "source": [
    "### 7. 다음과 같은 리스트가 있다. 이 리스트의 개수, 평균, 표준편차, 편차의 평균, 최솟값, 최댓값, 중간값을 구해라."
   ]
  },
  {
   "cell_type": "code",
   "execution_count": 8,
   "metadata": {},
   "outputs": [],
   "source": [
    "my_data=[29,102,38,132,235,23,7,41,31,52,29]\n",
    "x= 0\n",
    "ss=0\n",
    "for i in my_data:\n",
    "    x += i\n",
    "    ss=ss+i**2\n",
    "\n",
    "mean = x/len(my_data)\n",
    "mean = round(mean,2)\n",
    "import math as math\n",
    "\n",
    "var= ss/len(my_data)-mean**2\n",
    "std = math.sqrt(var)\n",
    "std = round(std,2)\n",
    "z = [i-mean for i in my_data]\n",
    "j = 0\n",
    "for a in z:\n",
    "    j += abs(a)\n",
    "    \n",
    "aa = j/len(z)\n",
    "\n",
    "print(\"데이터의 수 : \"+ str(len(my_data)))\n",
    "print(\"평균 : \"+ str(mean))\n",
    "print(\"표준편차 : \" + str(std))\n",
    "print(\"편차의 평균 : \" + str(aa))\n",
    "\n",
    "print(\"최솟값 : \" + str(min(my_data)))\n",
    "print(\"최댓값 : \" + str(max(my_data)))\n",
    "sort_data = sorted(my_data)\n",
    "print(\"중간값 : \" + str(sort_data[5]))"
   ]
  },
  {
   "cell_type": "code",
   "execution_count": 11,
   "metadata": {},
   "outputs": [
    {
     "name": "stdout",
     "output_type": "stream",
     "text": [
      "데이터의 수 : 11\n",
      "평균 : 65.36\n",
      "표준편차 : 64.04\n",
      "편차의 평균 : 49.61983471074381\n",
      "최솟값 : 7\n",
      "최댓값 : 235\n",
      "중간값 : 38\n"
     ]
    }
   ],
   "source": [
    "실행 예"
   ]
  },
  {
   "cell_type": "markdown",
   "metadata": {},
   "source": [
    "### 8. 현재 디렉터리 위치를 출력한 후, 바탕화면으로 디렉터리 위치를 변경하라."
   ]
  },
  {
   "cell_type": "code",
   "execution_count": 7,
   "metadata": {},
   "outputs": [
    {
     "data": {
      "text/plain": [
       "'C:\\\\Users\\\\INJI\\\\Desktop\\\\ESAA\\\\0927수업자료'"
      ]
     },
     "execution_count": 7,
     "metadata": {},
     "output_type": "execute_result"
    }
   ],
   "source": [
    "import os\n",
    "os.getcwd()"
   ]
  },
  {
   "cell_type": "code",
   "execution_count": 8,
   "metadata": {},
   "outputs": [
    {
     "data": {
      "text/plain": [
       "'C:\\\\Users\\\\INJI\\\\Desktop'"
      ]
     },
     "execution_count": 8,
     "metadata": {},
     "output_type": "execute_result"
    }
   ],
   "source": [
    "os.chdir(\"C:/Users/INJI/Desktop\")\n",
    "os.getcwd()"
   ]
  },
  {
   "cell_type": "markdown",
   "metadata": {},
   "source": [
    "### 9. 바탕화면에 있는 파일 중 확장자가 csv인 파일을 모두 찾아서 출력하라."
   ]
  },
  {
   "cell_type": "code",
   "execution_count": 10,
   "metadata": {},
   "outputs": [
    {
     "data": {
      "text/plain": [
       "[]"
      ]
     },
     "execution_count": 10,
     "metadata": {},
     "output_type": "execute_result"
    }
   ],
   "source": [
    "import glob\n",
    "glob.glob(\"C:/Users/INJI/Desktop/*csv\")"
   ]
  },
  {
   "cell_type": "markdown",
   "metadata": {},
   "source": [
    "### 10. 다음과 같은 리스트가 있다. 이 리스트 중 랜덤으로 30개를 test_set에, 나머지 70개를 train_set에 리스트 형태로 넣어라."
   ]
  },
  {
   "cell_type": "code",
   "execution_count": 15,
   "metadata": {
    "scrolled": true
   },
   "outputs": [
    {
     "name": "stdout",
     "output_type": "stream",
     "text": [
      "train_set : [66, 2, 10, 37, 38, 88, 81, 79, 41, 22, 85, 24, 50, 78, 13, 35, 65, 51, 25, 39, 83, 30, 9, 67, 92, 20, 73, 3, 29, 74, 6, 60, 49, 94, 26, 58, 71, 95, 87, 53, 64, 7, 70, 98, 72, 54, 82, 59, 91, 63, 69, 31, 55, 47, 99, 21, 68, 48, 0, 4, 14, 46, 42, 17, 77, 28, 90, 34, 61, 15]\n",
      "test_set : [36, 40, 45, 84, 52, 18, 16, 80, 33, 89, 44, 19, 76, 97, 86, 75, 93, 5, 27, 23, 8, 32, 12, 57, 1, 62, 11, 56, 43, 96]\n"
     ]
    }
   ],
   "source": [
    "my_set = list(range(100))\n",
    "\n",
    "import random\n",
    "random.shuffle(my_set)\n",
    "\n",
    "\n",
    "test_set=(my_set[:30])\n",
    "\n",
    "train_set=(my_set[30:])\n",
    "\n",
    "print(\"train_set :\",train_set)\n",
    "print(\"test_set :\",test_set)"
   ]
  },
  {
   "cell_type": "code",
   "execution_count": 39,
   "metadata": {},
   "outputs": [
    {
     "name": "stdout",
     "output_type": "stream",
     "text": [
      "train_set : [25, 41, 15, 51, 66, 98, 50, 6, 4, 78, 36, 97, 93, 11, 81, 64, 55, 24, 80, 87, 32, 53, 23, 3, 18, 34, 91, 22, 8, 46, 44, 59, 28, 21, 74, 5, 70, 39, 14, 35, 1, 90, 13, 10, 30, 58, 85, 71, 38, 52, 88, 48, 9, 73, 72, 7, 29, 2, 33, 94, 84, 40, 67, 89, 57, 42, 31, 17, 0]\n",
      "test_set : [49, 69, 68, 62, 61, 77, 47, 99, 63, 26, 86, 27, 95, 16, 37, 96, 20, 60, 43, 12, 92, 76, 75, 79, 56, 19, 54, 82, 65, 83]\n"
     ]
    }
   ],
   "source": [
    "실행 예"
   ]
  }
 ],
 "metadata": {
  "kernelspec": {
   "display_name": "Python 3",
   "language": "python",
   "name": "python3"
  },
  "language_info": {
   "codemirror_mode": {
    "name": "ipython",
    "version": 3
   },
   "file_extension": ".py",
   "mimetype": "text/x-python",
   "name": "python",
   "nbconvert_exporter": "python",
   "pygments_lexer": "ipython3",
   "version": "3.7.3"
  }
 },
 "nbformat": 4,
 "nbformat_minor": 2
}
