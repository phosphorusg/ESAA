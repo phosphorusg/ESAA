{
 "cells": [
  {
   "cell_type": "code",
   "execution_count": 1,
   "metadata": {},
   "outputs": [],
   "source": [
    "from pandas import DataFrame\n",
    "import folium"
   ]
  },
  {
   "cell_type": "code",
   "execution_count": 2,
   "metadata": {},
   "outputs": [
    {
     "data": {
      "text/html": [
       "<div>\n",
       "<style scoped>\n",
       "    .dataframe tbody tr th:only-of-type {\n",
       "        vertical-align: middle;\n",
       "    }\n",
       "\n",
       "    .dataframe tbody tr th {\n",
       "        vertical-align: top;\n",
       "    }\n",
       "\n",
       "    .dataframe thead th {\n",
       "        text-align: right;\n",
       "    }\n",
       "</style>\n",
       "<table border=\"1\" class=\"dataframe\">\n",
       "  <thead>\n",
       "    <tr style=\"text-align: right;\">\n",
       "      <th></th>\n",
       "      <th>위도</th>\n",
       "      <th>경도</th>\n",
       "      <th>구분</th>\n",
       "    </tr>\n",
       "  </thead>\n",
       "  <tbody>\n",
       "    <tr>\n",
       "      <th>0</th>\n",
       "      <td>37.558289</td>\n",
       "      <td>126.944011</td>\n",
       "      <td>유야케 도쿄</td>\n",
       "    </tr>\n",
       "    <tr>\n",
       "      <th>1</th>\n",
       "      <td>37.558085</td>\n",
       "      <td>126.933191</td>\n",
       "      <td>기꾸스시</td>\n",
       "    </tr>\n",
       "    <tr>\n",
       "      <th>2</th>\n",
       "      <td>37.558099</td>\n",
       "      <td>126.945052</td>\n",
       "      <td>삭</td>\n",
       "    </tr>\n",
       "    <tr>\n",
       "      <th>3</th>\n",
       "      <td>37.558591</td>\n",
       "      <td>126.945421</td>\n",
       "      <td>낭만식탁</td>\n",
       "    </tr>\n",
       "    <tr>\n",
       "      <th>4</th>\n",
       "      <td>37.565762</td>\n",
       "      <td>126.945789</td>\n",
       "      <td>카페 티아라</td>\n",
       "    </tr>\n",
       "  </tbody>\n",
       "</table>\n",
       "</div>"
      ],
      "text/plain": [
       "          위도          경도      구분\n",
       "0  37.558289  126.944011  유야케 도쿄\n",
       "1  37.558085  126.933191    기꾸스시\n",
       "2  37.558099  126.945052       삭\n",
       "3  37.558591  126.945421    낭만식탁\n",
       "4  37.565762  126.945789  카페 티아라"
      ]
     },
     "execution_count": 2,
     "metadata": {},
     "output_type": "execute_result"
    }
   ],
   "source": [
    "restaurants={'위도':[37.55828892322757, 37.558084791300594, 37.55809916148942, 37.558590671175025, 37.56576170790897],\n",
    "      '경도': [126.94401095379277, 126.93319067768095, 126.94505223023877, 126.94542114180273, 126.94578902681098],\n",
    "            '구분':['유야케 도쿄', '기꾸스시', '삭', '낭만식탁','카페 티아라']}\n",
    "restaurants=DataFrame(restaurants)\n",
    "restaurants"
   ]
  },
  {
   "cell_type": "code",
   "execution_count": 3,
   "metadata": {},
   "outputs": [
    {
     "data": {
      "text/html": [
       "<div style=\"width:100%;\"><div style=\"position:relative;width:100%;height:0;padding-bottom:60%;\"><span style=\"color:#565656\">Make this Notebook Trusted to load map: File -> Trust Notebook</span><iframe src=\"about:blank\" style=\"position:absolute;width:100%;height:100%;left:0;top:0;border:none !important;\" data-html=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 onload=\"this.contentDocument.open();this.contentDocument.write(atob(this.getAttribute('data-html')));this.contentDocument.close();\" allowfullscreen webkitallowfullscreen mozallowfullscreen></iframe></div></div>"
      ],
      "text/plain": [
       "<folium.folium.Map at 0x176ebf6d6d8>"
      ]
     },
     "execution_count": 3,
     "metadata": {},
     "output_type": "execute_result"
    }
   ],
   "source": [
    "lat = restaurants['위도'].mean()\n",
    "long = restaurants['경도'].mean()\n",
    "m = folium.Map([lat,long],zoom_start=15)\n",
    "m"
   ]
  },
  {
   "cell_type": "code",
   "execution_count": 4,
   "metadata": {},
   "outputs": [
    {
     "data": {
      "text/html": [
       "<div style=\"width:100%;\"><div style=\"position:relative;width:100%;height:0;padding-bottom:60%;\"><span style=\"color:#565656\">Make this Notebook Trusted to load map: File -> Trust Notebook</span><iframe src=\"about:blank\" style=\"position:absolute;width:100%;height:100%;left:0;top:0;border:none !important;\" data-html=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 onload=\"this.contentDocument.open();this.contentDocument.write(atob(this.getAttribute('data-html')));this.contentDocument.close();\" allowfullscreen webkitallowfullscreen mozallowfullscreen></iframe></div></div>"
      ],
      "text/plain": [
       "<folium.folium.Map at 0x176ebf6d6d8>"
      ]
     },
     "execution_count": 4,
     "metadata": {},
     "output_type": "execute_result"
    }
   ],
   "source": [
    "for i in restaurants.index:\n",
    "    sub_lat =  restaurants.loc[i,'위도']\n",
    "    sub_long = restaurants.loc[i,'경도']\n",
    "    \n",
    "    title = restaurants.loc[i,'구분']\n",
    "    \n",
    "    #지도에 데이터 찍어서 보여주기\n",
    "    folium.Marker([sub_lat,sub_long],popup = title, icon=folium.Icon(color='red',icon='star')).add_to(m)\n",
    "\n",
    "#한글이 안나오는 오류로 html로 trouble shooting \n",
    "m.save('restaurants.html')\n",
    "m"
   ]
  }
 ],
 "metadata": {
  "kernelspec": {
   "display_name": "Python 3",
   "language": "python",
   "name": "python3"
  },
  "language_info": {
   "codemirror_mode": {
    "name": "ipython",
    "version": 3
   },
   "file_extension": ".py",
   "mimetype": "text/x-python",
   "name": "python",
   "nbconvert_exporter": "python",
   "pygments_lexer": "ipython3",
   "version": "3.7.3"
  }
 },
 "nbformat": 4,
 "nbformat_minor": 2
}
